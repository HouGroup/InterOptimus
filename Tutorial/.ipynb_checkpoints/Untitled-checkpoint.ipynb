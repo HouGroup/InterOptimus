{
 "cells": [
  {
   "cell_type": "code",
   "execution_count": 1,
   "id": "a6b864e5-2fe3-47dd-9e64-ace736e2972c",
   "metadata": {},
   "outputs": [],
   "source": [
    "from InterOptimus.itworker import InterfaceWorker\n",
    "from pymatgen.core.structure import Structure\n",
    "from mp_api.client import MPRester"
   ]
  },
  {
   "cell_type": "code",
   "execution_count": 2,
   "id": "ac0e8895-5faf-4c16-9bac-e4af9b23f52c",
   "metadata": {},
   "outputs": [],
   "source": [
    "film_conv, substrate_conv = Structure.from_file('lattices/Li2S/CONTCAR'), Structure.from_file('lattices/Ni3S2/CONTCAR')"
   ]
  },
  {
   "cell_type": "code",
   "execution_count": 3,
   "id": "64b09eaa-92fa-46cc-b20c-1e8014fc6c06",
   "metadata": {},
   "outputs": [],
   "source": [
    "iw = InterfaceWorker(film_conv, substrate_conv)"
   ]
  },
  {
   "cell_type": "code",
   "execution_count": 4,
   "id": "056b9a83-d272-4639-a5da-856a36a19b84",
   "metadata": {},
   "outputs": [],
   "source": [
    "iw.lattice_matching(max_area = 47, max_length_tol = 0.03, max_angle_tol = 0.03,\n",
    "                    film_max_miller = 1, substrate_max_miller = 1, film_millers = None, substrate_millers = None)\n",
    "#Note max millers are in primitive cell, should be different from the indices in the polar projection below which are in conventional cell\n",
    "#If you specify miller indices yourself, just ignore film_max_miller and substrate_max_miller"
   ]
  },
  {
   "cell_type": "code",
   "execution_count": 5,
   "id": "2849f715-2a6c-4cf7-bb70-80aaf8937ac2",
   "metadata": {},
   "outputs": [
    {
     "name": "stdout",
     "output_type": "stream",
     "text": [
      "symmetry checking progress: 100%:  ▋▋▋▋▋▋▋▋▋▋▋▋▋▋▋▋▋▋▋▋▋▋▋▋▋▋▋▋▋▋▋▋▋▋▋▋▋▋▋▋▋▋▋▋▋▋▋▋▋▋"
     ]
    }
   ],
   "source": [
    "iw.parse_interface_structure_params(termination_ftol = 0.01, c_periodic = False, \\\n",
    "                                    vacuum_over_film = 10, film_thickness = 10, \\\n",
    "                                    substrate_thickness = 10, shift_to_bottom = True)"
   ]
  },
  {
   "cell_type": "code",
   "execution_count": 36,
   "id": "60b47c1f-54c5-4432-84fe-47ef6563ebbd",
   "metadata": {},
   "outputs": [
    {
     "data": {
      "application/vnd.jupyter.widget-view+json": {
       "model_id": "7ecfe90351094a2ba8fd2f7c4ae770c5",
       "version_major": 2,
       "version_minor": 0
      },
      "text/plain": [
       "matches:   0%|          | 0/3 [00:00<?, ?it/s]"
      ]
     },
     "metadata": {},
     "output_type": "display_data"
    },
    {
     "data": {
      "application/vnd.jupyter.widget-view+json": {
       "model_id": "933b6b67e5fc430e8d8fa6ee64bc69e5",
       "version_major": 2,
       "version_minor": 0
      },
      "text/plain": [
       "unique terminations:   0%|          | 0/10 [00:00<?, ?it/s]"
      ]
     },
     "metadata": {},
     "output_type": "display_data"
    },
    {
     "data": {
      "application/vnd.jupyter.widget-view+json": {
       "model_id": "be5bc74f2d0449888d1ef487ee589f34",
       "version_major": 2,
       "version_minor": 0
      },
      "text/plain": [
       "unique terminations:   0%|          | 0/5 [00:00<?, ?it/s]"
      ]
     },
     "metadata": {},
     "output_type": "display_data"
    },
    {
     "data": {
      "application/vnd.jupyter.widget-view+json": {
       "model_id": "968eed1500e2485a811bd05172ace898",
       "version_major": 2,
       "version_minor": 0
      },
      "text/plain": [
       "unique terminations:   0%|          | 0/5 [00:00<?, ?it/s]"
      ]
     },
     "metadata": {},
     "output_type": "display_data"
    },
    {
     "data": {
      "application/vnd.jupyter.widget-view+json": {
       "model_id": "826119bace524743a246ae588abd88b4",
       "version_major": 2,
       "version_minor": 0
      },
      "text/plain": [
       "matches:   0%|          | 0/3 [00:00<?, ?it/s]"
      ]
     },
     "metadata": {},
     "output_type": "display_data"
    },
    {
     "data": {
      "application/vnd.jupyter.widget-view+json": {
       "model_id": "508d617ef7314fbba7feb94a12c9c285",
       "version_major": 2,
       "version_minor": 0
      },
      "text/plain": [
       "unique terminations:   0%|          | 0/10 [00:00<?, ?it/s]"
      ]
     },
     "metadata": {},
     "output_type": "display_data"
    },
    {
     "name": "stderr",
     "output_type": "stream",
     "text": [
      "/opt/anaconda3/envs/3.12/lib/python3.12/site-packages/pymatgen/io/vasp/sets.py:287: BadInputSetWarning: Overriding POTCARs is generally not recommended as it significantly affects the results of calculations and compatibility with other calculations done with the same input set. In many instances, it is better to write a subclass of a desired input set and override the POTCAR in the subclass to be explicit on the differences.\n",
      "  warnings.warn(\n"
     ]
    },
    {
     "data": {
      "application/vnd.jupyter.widget-view+json": {
       "model_id": "2523c34587734ca993a53b1731cad54d",
       "version_major": 2,
       "version_minor": 0
      },
      "text/plain": [
       "unique terminations:   0%|          | 0/5 [00:00<?, ?it/s]"
      ]
     },
     "metadata": {},
     "output_type": "display_data"
    },
    {
     "data": {
      "application/vnd.jupyter.widget-view+json": {
       "model_id": "6a20db65df174285b9226aabb4b0606f",
       "version_major": 2,
       "version_minor": 0
      },
      "text/plain": [
       "unique terminations:   0%|          | 0/5 [00:00<?, ?it/s]"
      ]
     },
     "metadata": {},
     "output_type": "display_data"
    }
   ],
   "source": [
    "wf = iw.global_random_sampling(n_taget = 5, \n",
    "                               n_max = 100, sampling_min_displace = 1, discut = 1,\n",
    "                               to_fireworks = True,\n",
    "                              project_name = 'test', \n",
    "                                db_file = '/public5/home/t6s001944/.conda/envs/general/lib/python3.12/site-packages/atomate/config/db.json',\n",
    "                                vasp_cmd = 'mpirun -np 96 vasp_std',\n",
    "                                user_incar_settings={'NCORE':12}, \n",
    "                               work_dir = '/public5/home/t6s001944/InterOptimusPaper/random_sampling/Ni3S2/vasp')"
   ]
  },
  {
   "cell_type": "code",
   "execution_count": 37,
   "id": "7bcc363e-be8c-4995-90e5-6d9fbcf407c0",
   "metadata": {},
   "outputs": [],
   "source": [
    "import pickle\n",
    "with open('wf.pkl','wb') as f:\n",
    "    pickle.dump(wf.to_dict(), f)"
   ]
  },
  {
   "cell_type": "code",
   "execution_count": null,
   "id": "ae980e86-c54b-4e84-807c-ed8d8c7068f2",
   "metadata": {},
   "outputs": [],
   "source": [
    "with open('wf.pkl','rb') as f:\n",
    "    data = pickle.load(f)"
   ]
  },
  {
   "cell_type": "code",
   "execution_count": null,
   "id": "d5d79b91-64fa-43b0-afc0-e33d8427c13b",
   "metadata": {},
   "outputs": [],
   "source": [
    "from fireworks import Workflow"
   ]
  },
  {
   "cell_type": "code",
   "execution_count": null,
   "id": "82f121c6-5808-48c2-b7a8-80eaebf58868",
   "metadata": {
    "scrolled": true
   },
   "outputs": [],
   "source": [
    "Workflow.from_dict(data)"
   ]
  }
 ],
 "metadata": {
  "kernelspec": {
   "display_name": "Python 3 (ipykernel)",
   "language": "python",
   "name": "python3"
  },
  "language_info": {
   "codemirror_mode": {
    "name": "ipython",
    "version": 3
   },
   "file_extension": ".py",
   "mimetype": "text/x-python",
   "name": "python",
   "nbconvert_exporter": "python",
   "pygments_lexer": "ipython3",
   "version": "3.12.7"
  }
 },
 "nbformat": 4,
 "nbformat_minor": 5
}
