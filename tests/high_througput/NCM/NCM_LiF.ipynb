{
 "cells": [
  {
   "cell_type": "code",
   "execution_count": 1,
   "id": "a6b864e5-2fe3-47dd-9e64-ace736e2972c",
   "metadata": {
    "editable": true,
    "slideshow": {
     "slide_type": ""
    },
    "tags": []
   },
   "outputs": [],
   "source": [
    "from InterOptimus.itworker import InterfaceWorker\n",
    "from pymatgen.core.structure import Structure\n",
    "from mp_api.client import MPRester"
   ]
  },
  {
   "cell_type": "code",
   "execution_count": 2,
   "id": "0e335c17-7dfb-4657-9e7b-d994c748e6fe",
   "metadata": {
    "editable": true,
    "slideshow": {
     "slide_type": ""
    },
    "tags": []
   },
   "outputs": [],
   "source": [
    "from pymatgen.symmetry.analyzer import SpacegroupAnalyzer"
   ]
  },
  {
   "cell_type": "code",
   "execution_count": 3,
   "id": "ac0e8895-5faf-4c16-9bac-e4af9b23f52c",
   "metadata": {
    "editable": true,
    "slideshow": {
     "slide_type": ""
    },
    "tags": []
   },
   "outputs": [
    {
     "data": {
      "application/vnd.jupyter.widget-view+json": {
       "model_id": "040ddd3e7964426b91b1c05b77df02cb",
       "version_major": 2,
       "version_minor": 0
      },
      "text/plain": [
       "Retrieving SummaryDoc documents:   0%|          | 0/2 [00:00<?, ?it/s]"
      ]
     },
     "metadata": {},
     "output_type": "display_data"
    }
   ],
   "source": [
    "with MPRester('fFtrdShVJH4jwWHiId8v4cyGzV2oYnoG') as mpr:\n",
    "        docs = mpr.materials.summary.search(\n",
    "        material_ids = [\"mp-1138\", \"mp-1222510\"],\n",
    "        fields=[\"material_id\", \"structure\", \"nelements\"])\n",
    "        for doc in docs:\n",
    "            material_id = doc.material_id\n",
    "            structure = doc.structure\n",
    "    \n",
    "            # 使用 SpacegroupAnalyzer 获取常规结构\n",
    "            analyzer = SpacegroupAnalyzer(structure)\n",
    "            doc.structure = analyzer.get_conventional_standard_structure()\n",
    "film_conv, substrate_conv = docs[0].structure, docs[1].structure\n",
    "iw = InterfaceWorker(film_conv, substrate_conv)"
   ]
  },
  {
   "cell_type": "code",
   "execution_count": 4,
   "id": "fdb34790-61a7-487c-871d-6cb236975f49",
   "metadata": {
    "editable": true,
    "slideshow": {
     "slide_type": ""
    },
    "tags": []
   },
   "outputs": [
    {
     "name": "stderr",
     "output_type": "stream",
     "text": [
      "\n",
      "KeyboardInterrupt\n",
      "\n"
     ]
    }
   ],
   "source": [
    "iw.lattice_matching(max_area = 27, max_length_tol = 0.03, max_angle_tol = 0.01,\n",
    "                    film_max_miller = 3, substrate_max_miller = 3, film_millers = None, substrate_millers = None)\n",
    "#Note max millers are in primitive cell, should be different from the indices in the polar projection below which are in conventional cell\n",
    "#If you specify miller indices yourself, just ignore film_max_miller and substrate_max_miller"
   ]
  },
  {
   "cell_type": "code",
   "execution_count": null,
   "id": "d4d7ba25-9747-420d-8a2a-5bf0f1f62e6d",
   "metadata": {
    "editable": true,
    "slideshow": {
     "slide_type": ""
    },
    "tags": []
   },
   "outputs": [],
   "source": [
    "#Visualize matching information\n",
    "iw.ems.plot_unique_matches() "
   ]
  },
  {
   "cell_type": "code",
   "execution_count": null,
   "id": "bede8946-5254-4417-80e3-8b1b6e10735d",
   "metadata": {
    "editable": true,
    "scrolled": true,
    "slideshow": {
     "slide_type": ""
    },
    "tags": []
   },
   "outputs": [],
   "source": [
    "iw.ems.plot_matching_data(['LiF', 'Li$_3$MnCoNiO$_6$'],'project.jpg', show_millers = True, show_legend = True)"
   ]
  },
  {
   "cell_type": "code",
   "execution_count": null,
   "id": "2849f715-2a6c-4cf7-bb70-80aaf8937ac2",
   "metadata": {
    "editable": true,
    "slideshow": {
     "slide_type": ""
    },
    "tags": []
   },
   "outputs": [],
   "source": [
    "iw.parse_interface_structure_params(termination_ftol = 0.2, c_periodic = False, \\\n",
    "                                    vacuum_over_film = 12, film_thickness = 10, \\\n",
    "                                    substrate_thickness = 10, shift_to_bottom = True)"
   ]
  },
  {
   "cell_type": "code",
   "execution_count": null,
   "id": "9698e613-7074-4666-9d96-38e1cbf36c01",
   "metadata": {},
   "outputs": [],
   "source": [
    "iw.output_slabs(2,0)"
   ]
  },
  {
   "cell_type": "code",
   "execution_count": null,
   "id": "60b47c1f-54c5-4432-84fe-47ef6563ebbd",
   "metadata": {
    "editable": true,
    "slideshow": {
     "slide_type": ""
    },
    "tags": []
   },
   "outputs": [],
   "source": [
    "wf = iw.global_random_sampling(n_taget = 20, \n",
    "                               n_max = 1000, sampling_min_displace = 1, discut = 1,\n",
    "                               to_fireworks = True,\n",
    "                              project_name = 'NCM_LiF', \n",
    "                                db_file = '/public5/home/t6s001944/.conda/envs/general/lib/python3.12/site-packages/atomate/config/db.json',\n",
    "                                vasp_cmd = 'mpirun -np 96 vasp_std',\n",
    "                                user_incar_settings={'NCORE':12}, \n",
    "                               work_dir = '/public5/home/t6s001944/InterOptimusPaper/random_sampling/NCM_LiF/vasp')"
   ]
  },
  {
   "cell_type": "code",
   "execution_count": 20,
   "id": "0b4cd25b-d5c1-4126-9b27-acb85bd253df",
   "metadata": {
    "editable": true,
    "slideshow": {
     "slide_type": ""
    },
    "tags": []
   },
   "outputs": [],
   "source": [
    "import pickle\n",
    "with open('wf.pkl','wb') as f:\n",
    "    pickle.dump(wf.to_dict(), f)"
   ]
  },
  {
   "cell_type": "code",
   "execution_count": 19,
   "id": "2222f3d1-7fde-4953-aa6e-af01112fa0f2",
   "metadata": {
    "editable": true,
    "slideshow": {
     "slide_type": ""
    },
    "tags": []
   },
   "outputs": [],
   "source": [
    "from fireworks import Workflow"
   ]
  },
  {
   "cell_type": "code",
   "execution_count": 33,
   "id": "e855a787-758b-4fb9-9bbf-375e024cd3c4",
   "metadata": {
    "editable": true,
    "slideshow": {
     "slide_type": ""
    },
    "tags": []
   },
   "outputs": [],
   "source": [
    "new_wf = Workflow([wf[550], wf[551]])"
   ]
  },
  {
   "cell_type": "code",
   "execution_count": 15,
   "id": "e2723d23-5e25-46e2-90eb-cc2ceb189312",
   "metadata": {},
   "outputs": [],
   "source": [
    "from fireworks import LaunchPad"
   ]
  },
  {
   "cell_type": "code",
   "execution_count": 17,
   "id": "de3d4e36-3437-4851-8660-0a1133361019",
   "metadata": {},
   "outputs": [],
   "source": [
    "lp = LaunchPad.auto_load()"
   ]
  },
  {
   "cell_type": "code",
   "execution_count": 18,
   "id": "556ec0fe-2be5-4778-8096-9a8b493e443c",
   "metadata": {
    "editable": true,
    "slideshow": {
     "slide_type": ""
    },
    "tags": []
   },
   "outputs": [
    {
     "name": "stdout",
     "output_type": "stream",
     "text": [
      "Help on method delete_fws in module fireworks.core.launchpad:\n",
      "\n",
      "delete_fws(fw_ids, delete_launch_dirs=False) method of fireworks.core.launchpad.LaunchPad instance\n",
      "    Delete a set of fireworks identified by their fw_ids.\n",
      "\n",
      "    ATTENTION: This function serves maintenance purposes and will leave\n",
      "    workflows untouched. Its use will thus result in a corrupted database.\n",
      "    Use 'delete_wf' instead for consistently deleting workflows together\n",
      "    with theit fireworks.\n",
      "\n",
      "    Args:\n",
      "        fw_ids ([int]): Firework ids\n",
      "        delete_launch_dirs (bool): if True all the launch directories associated with\n",
      "            the WF will be deleted as well, if possible.\n",
      "\n"
     ]
    }
   ],
   "source": [
    "lp.delete_fws"
   ]
  },
  {
   "cell_type": "code",
   "execution_count": 34,
   "id": "4910d13d-a1b4-4d19-b6c4-574d76bb26f7",
   "metadata": {
    "editable": true,
    "slideshow": {
     "slide_type": ""
    },
    "tags": []
   },
   "outputs": [],
   "source": [
    "import pickle\n",
    "with open('new_wf.pkl','wb') as f:\n",
    "    pickle.dump(new_wf.to_dict(), f)"
   ]
  },
  {
   "cell_type": "code",
   "execution_count": 19,
   "id": "77c447cb-871e-43e4-8de4-7cfb7f57a76a",
   "metadata": {
    "editable": true,
    "slideshow": {
     "slide_type": ""
    },
    "tags": []
   },
   "outputs": [
    {
     "data": {
      "text/plain": [
       "3818"
      ]
     },
     "execution_count": 19,
     "metadata": {},
     "output_type": "execute_result"
    }
   ],
   "source": [
    "len(wf)"
   ]
  },
  {
   "cell_type": "code",
   "execution_count": 17,
   "id": "7bcc363e-be8c-4995-90e5-6d9fbcf407c0",
   "metadata": {
    "editable": true,
    "slideshow": {
     "slide_type": ""
    },
    "tags": []
   },
   "outputs": [],
   "source": [
    "import pickle\n",
    "with open('wf.pkl','wb') as f:\n",
    "    pickle.dump(wf.to_dict(), f)"
   ]
  },
  {
   "cell_type": "code",
   "execution_count": 8,
   "id": "ae980e86-c54b-4e84-807c-ed8d8c7068f2",
   "metadata": {
    "editable": true,
    "slideshow": {
     "slide_type": ""
    },
    "tags": []
   },
   "outputs": [],
   "source": [
    "with open('wf.pkl','rb') as f:\n",
    "    data = pickle.load(f)"
   ]
  },
  {
   "cell_type": "code",
   "execution_count": 9,
   "id": "d5d79b91-64fa-43b0-afc0-e33d8427c13b",
   "metadata": {},
   "outputs": [],
   "source": [
    "from fireworks import Workflow"
   ]
  },
  {
   "cell_type": "code",
   "execution_count": 29,
   "id": "1aa433f6-8fb6-45b4-a95f-2887fde81945",
   "metadata": {
    "editable": true,
    "slideshow": {
     "slide_type": ""
    },
    "tags": []
   },
   "outputs": [
    {
     "data": {
      "text/plain": [
       "-1964.0"
      ]
     },
     "execution_count": 29,
     "metadata": {},
     "output_type": "execute_result"
    }
   ],
   "source": [
    "-3928/2"
   ]
  },
  {
   "cell_type": "code",
   "execution_count": 28,
   "id": "82f121c6-5808-48c2-b7a8-80eaebf58868",
   "metadata": {
    "editable": true,
    "scrolled": true,
    "slideshow": {
     "slide_type": ""
    },
    "tags": []
   },
   "outputs": [
    {
     "data": {
      "text/plain": [
       "{'_launch_dir': '/public5/home/t6s001944/InterOptimusPaper/random_sampling/Ni3S2/vasp/fmsg_0_0',\n",
       " '_tasks': [{'vasp_input_set': {'@module': 'pymatgen.io.vasp.sets',\n",
       "    '@class': 'MPStaticSet',\n",
       "    '@version': None,\n",
       "    'structure': {'@module': 'pymatgen.core.structure',\n",
       "     '@class': 'Structure',\n",
       "     'charge': 0,\n",
       "     'lattice': {'matrix': [[4.030964441472857, 0.0, 2.4682538503632665e-16],\n",
       "       [0.037841015579677804, 4.030786819711319, -6.482285218373636e-16],\n",
       "       [0.0, 0.0, 34.03823429095444]],\n",
       "      'pbc': [True, True, True],\n",
       "      'a': 4.030964441472857,\n",
       "      'b': 4.030964441472858,\n",
       "      'c': 34.03823429095444,\n",
       "      'alpha': 90.0,\n",
       "      'beta': 90.0,\n",
       "      'gamma': 89.462123180944,\n",
       "      'volume': 553.0518127747102},\n",
       "     'properties': {},\n",
       "     'sites': [{'species': [{'element': 'Li', 'occu': 1}],\n",
       "       'abc': [0.32553267895618854, 0.8255326789561886, 0.29152767929081347],\n",
       "       'properties': {'bulk_equivalent': 0,\n",
       "        'interface_label': 'film',\n",
       "        'bulk_wyckoff': 'c'},\n",
       "       'label': 'Li',\n",
       "       'xyz': [1.3434496483757097, 3.327546241577581, 9.923087449998937]},\n",
       "      {'species': [{'element': 'Li', 'occu': 1}],\n",
       "       'abc': [0.8255326789561884, 0.32553267895618876, 0.29152767929081347],\n",
       "       'properties': {'bulk_equivalent': 0,\n",
       "        'interface_label': 'film',\n",
       "        'bulk_wyckoff': 'c'},\n",
       "       'label': 'Li',\n",
       "       'xyz': [3.3400113613222993, 1.312152831721922, 9.923087449998937]},\n",
       "      {'species': [{'element': 'Li', 'occu': 1}],\n",
       "       'abc': [0.8255326789561885, 0.32553267895618854, 0.20823405663629524],\n",
       "       'properties': {'bulk_equivalent': 0,\n",
       "        'interface_label': 'film',\n",
       "        'bulk_wyckoff': 'c'},\n",
       "       'label': 'Li',\n",
       "       'xyz': [3.3400113613222997, 1.312152831721921, 7.087919607142094]},\n",
       "      {'species': [{'element': 'Li', 'occu': 1}],\n",
       "       'abc': [0.32553267895618854, 0.8255326789561888, 0.20823405663629524],\n",
       "       'properties': {'bulk_equivalent': 0,\n",
       "        'interface_label': 'film',\n",
       "        'bulk_wyckoff': 'c'},\n",
       "       'label': 'Li',\n",
       "       'xyz': [1.3434496483757097, 3.327546241577582, 7.087919607142093]},\n",
       "      {'species': [{'element': 'Li', 'occu': 1}],\n",
       "       'abc': [0.325532678956189, 0.825532678956189, 0.12494043398177723],\n",
       "       'properties': {'bulk_equivalent': 0,\n",
       "        'interface_label': 'film',\n",
       "        'bulk_wyckoff': 'c'},\n",
       "       'label': 'Li',\n",
       "       'xyz': [1.3434496483757115, 3.3275462415775827, 4.252751764285259]},\n",
       "      {'species': [{'element': 'Li', 'occu': 1}],\n",
       "       'abc': [0.8255326789561885, 0.32553267895618854, 0.12494043398177723],\n",
       "       'properties': {'bulk_equivalent': 0,\n",
       "        'interface_label': 'film',\n",
       "        'bulk_wyckoff': 'c'},\n",
       "       'label': 'Li',\n",
       "       'xyz': [3.3400113613222997, 1.312152831721921, 4.252751764285259]},\n",
       "      {'species': [{'element': 'Li', 'occu': 1}],\n",
       "       'abc': [0.8255326789561881, 0.32553267895618854, 0.041646811327259226],\n",
       "       'properties': {'bulk_equivalent': 0,\n",
       "        'interface_label': 'film',\n",
       "        'bulk_wyckoff': 'c'},\n",
       "       'label': 'Li',\n",
       "       'xyz': [3.340011361322298, 1.312152831721921, 1.417583921428425]},\n",
       "      {'species': [{'element': 'Li', 'occu': 1}],\n",
       "       'abc': [0.3255326789561881, 0.8255326789561885, 0.041646811327259226],\n",
       "       'properties': {'bulk_equivalent': 0,\n",
       "        'interface_label': 'film',\n",
       "        'bulk_wyckoff': 'c'},\n",
       "       'label': 'Li',\n",
       "       'xyz': [1.343449648375708, 3.3275462415775805, 1.4175839214284245]},\n",
       "      {'species': [{'element': 'S', 'occu': 1}],\n",
       "       'abc': [0.8255326789561886, 0.8255326789561888, 0.24988086796355424],\n",
       "       'properties': {'bulk_equivalent': 2,\n",
       "        'interface_label': 'film',\n",
       "        'bulk_wyckoff': 'a'},\n",
       "       'label': 'S',\n",
       "       'xyz': [3.358931869112139, 3.327546241577582, 8.505503528570511]},\n",
       "      {'species': [{'element': 'S', 'occu': 1}],\n",
       "       'abc': [0.32553267895618854, 0.32553267895618854, 0.16658724530903624],\n",
       "       'properties': {'bulk_equivalent': 2,\n",
       "        'interface_label': 'film',\n",
       "        'bulk_wyckoff': 'a'},\n",
       "       'label': 'S',\n",
       "       'xyz': [1.3245291405858708, 1.312152831721921, 5.670335685713677]},\n",
       "      {'species': [{'element': 'S', 'occu': 1}],\n",
       "       'abc': [0.8255326789561885, 0.8255326789561885, 0.08329362265451823],\n",
       "       'properties': {'bulk_equivalent': 2,\n",
       "        'interface_label': 'film',\n",
       "        'bulk_wyckoff': 'a'},\n",
       "       'label': 'S',\n",
       "       'xyz': [3.3589318691121384, 3.3275462415775805, 2.835167842856842]},\n",
       "      {'species': [{'element': 'S', 'occu': 1}],\n",
       "       'abc': [0.325532678956189, 0.325532678956189, 0.0],\n",
       "       'properties': {'bulk_equivalent': 2,\n",
       "        'interface_label': 'film',\n",
       "        'bulk_wyckoff': 'a'},\n",
       "       'label': 'S',\n",
       "       'xyz': [1.3245291405858726,\n",
       "        1.3121528317219229,\n",
       "        -1.3066983846425916e-16]}]},\n",
       "    'config_dict': {'PARENT': 'VASPIncarBase',\n",
       "     'INCAR': {'ALGO': 'FAST',\n",
       "      'EDIFF_PER_ATOM': 5e-05,\n",
       "      'ENCUT': 520,\n",
       "      'IBRION': 2,\n",
       "      'ISIF': 3,\n",
       "      'ISMEAR': -5,\n",
       "      'ISPIN': 2,\n",
       "      'LASPH': True,\n",
       "      'LDAU': True,\n",
       "      'LDAUJ': {'F': {'Co': 0,\n",
       "        'Cr': 0,\n",
       "        'Fe': 0,\n",
       "        'Mn': 0,\n",
       "        'Mo': 0,\n",
       "        'Ni': 0,\n",
       "        'V': 0,\n",
       "        'W': 0},\n",
       "       'O': {'Co': 0,\n",
       "        'Cr': 0,\n",
       "        'Fe': 0,\n",
       "        'Mn': 0,\n",
       "        'Mo': 0,\n",
       "        'Ni': 0,\n",
       "        'V': 0,\n",
       "        'W': 0}},\n",
       "      'LDAUL': {'F': {'Co': 2,\n",
       "        'Cr': 2,\n",
       "        'Fe': 2,\n",
       "        'Mn': 2,\n",
       "        'Mo': 2,\n",
       "        'Ni': 2,\n",
       "        'V': 2,\n",
       "        'W': 2},\n",
       "       'O': {'Co': 2,\n",
       "        'Cr': 2,\n",
       "        'Fe': 2,\n",
       "        'Mn': 2,\n",
       "        'Mo': 2,\n",
       "        'Ni': 2,\n",
       "        'V': 2,\n",
       "        'W': 2}},\n",
       "      'LDAUTYPE': 2,\n",
       "      'LDAUU': {'F': {'Co': 3.32,\n",
       "        'Cr': 3.7,\n",
       "        'Fe': 5.3,\n",
       "        'Mn': 3.9,\n",
       "        'Mo': 4.38,\n",
       "        'Ni': 6.2,\n",
       "        'V': 3.25,\n",
       "        'W': 6.2},\n",
       "       'O': {'Co': 3.32,\n",
       "        'Cr': 3.7,\n",
       "        'Fe': 5.3,\n",
       "        'Mn': 3.9,\n",
       "        'Mo': 4.38,\n",
       "        'Ni': 6.2,\n",
       "        'V': 3.25,\n",
       "        'W': 6.2}},\n",
       "      'LDAUPRINT': 1,\n",
       "      'LORBIT': 11,\n",
       "      'LREAL': 'AUTO',\n",
       "      'LWAVE': False,\n",
       "      'NELM': 100,\n",
       "      'NSW': 99,\n",
       "      'PREC': 'Accurate',\n",
       "      'SIGMA': 0.05,\n",
       "      'MAGMOM': {'Ce': 5,\n",
       "       'Ce3+': 1,\n",
       "       'Co': 0.6,\n",
       "       'Co3+': 0.6,\n",
       "       'Co4+': 1,\n",
       "       'Cr': 5,\n",
       "       'Dy3+': 5,\n",
       "       'Er3+': 3,\n",
       "       'Eu': 10,\n",
       "       'Eu2+': 7,\n",
       "       'Eu3+': 6,\n",
       "       'Fe': 5,\n",
       "       'Gd3+': 7,\n",
       "       'Ho3+': 4,\n",
       "       'La3+': 0.6,\n",
       "       'Lu3+': 0.6,\n",
       "       'Mn': 5,\n",
       "       'Mn3+': 4,\n",
       "       'Mn4+': 3,\n",
       "       'Mo': 5,\n",
       "       'Nd3+': 3,\n",
       "       'Ni': 5,\n",
       "       'Pm3+': 4,\n",
       "       'Pr3+': 2,\n",
       "       'Sm3+': 5,\n",
       "       'Tb3+': 6,\n",
       "       'Tm3+': 2,\n",
       "       'V': 5,\n",
       "       'W': 5,\n",
       "       'Yb3+': 1}},\n",
       "     'KPOINTS': {'reciprocal_density': 64},\n",
       "     'POTCAR_FUNCTIONAL': 'PBE',\n",
       "     'POTCAR': {'Ac': 'Ac',\n",
       "      'Ag': 'Ag',\n",
       "      'Al': 'Al',\n",
       "      'Ar': 'Ar',\n",
       "      'As': 'As',\n",
       "      'Au': 'Au',\n",
       "      'B': 'B',\n",
       "      'Ba': 'Ba_sv',\n",
       "      'Be': 'Be_sv',\n",
       "      'Bi': 'Bi',\n",
       "      'Br': 'Br',\n",
       "      'C': 'C',\n",
       "      'Ca': 'Ca_sv',\n",
       "      'Cd': 'Cd',\n",
       "      'Ce': 'Ce',\n",
       "      'Cl': 'Cl',\n",
       "      'Co': 'Co',\n",
       "      'Cr': 'Cr_pv',\n",
       "      'Cs': 'Cs_sv',\n",
       "      'Cu': 'Cu_pv',\n",
       "      'Dy': 'Dy_3',\n",
       "      'Er': 'Er_3',\n",
       "      'Eu': 'Eu',\n",
       "      'F': 'F',\n",
       "      'Fe': 'Fe_pv',\n",
       "      'Ga': 'Ga_d',\n",
       "      'Gd': 'Gd',\n",
       "      'Ge': 'Ge_d',\n",
       "      'H': 'H',\n",
       "      'He': 'He',\n",
       "      'Hf': 'Hf_pv',\n",
       "      'Hg': 'Hg',\n",
       "      'Ho': 'Ho_3',\n",
       "      'I': 'I',\n",
       "      'In': 'In_d',\n",
       "      'Ir': 'Ir',\n",
       "      'K': 'K_sv',\n",
       "      'Kr': 'Kr',\n",
       "      'La': 'La',\n",
       "      'Li': 'Li_sv',\n",
       "      'Lu': 'Lu_3',\n",
       "      'Mg': 'Mg_pv',\n",
       "      'Mn': 'Mn_pv',\n",
       "      'Mo': 'Mo_pv',\n",
       "      'N': 'N',\n",
       "      'Na': 'Na_pv',\n",
       "      'Nb': 'Nb_pv',\n",
       "      'Nd': 'Nd_3',\n",
       "      'Ne': 'Ne',\n",
       "      'Ni': 'Ni_pv',\n",
       "      'Np': 'Np',\n",
       "      'O': 'O',\n",
       "      'Os': 'Os_pv',\n",
       "      'P': 'P',\n",
       "      'Pa': 'Pa',\n",
       "      'Pb': 'Pb_d',\n",
       "      'Pd': 'Pd',\n",
       "      'Pm': 'Pm_3',\n",
       "      'Pr': 'Pr_3',\n",
       "      'Pt': 'Pt',\n",
       "      'Pu': 'Pu',\n",
       "      'Rb': 'Rb_sv',\n",
       "      'Re': 'Re_pv',\n",
       "      'Rh': 'Rh_pv',\n",
       "      'Ru': 'Ru_pv',\n",
       "      'S': 'S',\n",
       "      'Sb': 'Sb',\n",
       "      'Sc': 'Sc_sv',\n",
       "      'Se': 'Se',\n",
       "      'Si': 'Si',\n",
       "      'Sm': 'Sm_3',\n",
       "      'Sn': 'Sn_d',\n",
       "      'Sr': 'Sr_sv',\n",
       "      'Ta': 'Ta_pv',\n",
       "      'Tb': 'Tb_3',\n",
       "      'Tc': 'Tc_pv',\n",
       "      'Te': 'Te',\n",
       "      'Th': 'Th',\n",
       "      'Ti': 'Ti_pv',\n",
       "      'Tl': 'Tl_d',\n",
       "      'Tm': 'Tm_3',\n",
       "      'U': 'U',\n",
       "      'V': 'V_pv',\n",
       "      'W': 'W_pv',\n",
       "      'Xe': 'Xe',\n",
       "      'Y': 'Y_sv',\n",
       "      'Yb': 'Yb_2',\n",
       "      'Zn': 'Zn',\n",
       "      'Zr': 'Zr_sv'}},\n",
       "    'files_to_transfer': {},\n",
       "    'user_incar_settings': {'NELM': 500, 'LWAVE': True, 'NCORE': 12},\n",
       "    'user_kpoints_settings': {'reciprocal_density': 100},\n",
       "    'user_potcar_settings': {},\n",
       "    'constrain_total_magmom': False,\n",
       "    'sort_structure': True,\n",
       "    'user_potcar_functional': 'PBE',\n",
       "    'force_gamma': False,\n",
       "    'reduce_structure': None,\n",
       "    'vdw': None,\n",
       "    'use_structure_charge': False,\n",
       "    'standardize': False,\n",
       "    'sym_prec': 0.1,\n",
       "    'international_monoclinic': True,\n",
       "    'validate_magmom': True,\n",
       "    'inherit_incar': True,\n",
       "    'auto_kspacing': False,\n",
       "    'auto_ismear': False,\n",
       "    'auto_ispin': False,\n",
       "    'auto_lreal': False,\n",
       "    'auto_metal_kpoints': False,\n",
       "    'bandgap_tol': 0.0001,\n",
       "    'bandgap': None,\n",
       "    'prev_incar': None,\n",
       "    'prev_kpoints': None,\n",
       "    '_valid_potcars': None,\n",
       "    'lepsilon': False,\n",
       "    'lcalcpol': False,\n",
       "    'reciprocal_density': 100,\n",
       "    'small_gap_multiply': None},\n",
       "   'structure': {'@module': 'pymatgen.core.structure',\n",
       "    '@class': 'Structure',\n",
       "    'charge': 0,\n",
       "    'lattice': {'matrix': [[4.030964441472857, 0.0, 2.4682538503632665e-16],\n",
       "      [0.037841015579677804, 4.030786819711319, -6.482285218373636e-16],\n",
       "      [0.0, 0.0, 34.03823429095444]],\n",
       "     'pbc': [True, True, True],\n",
       "     'a': 4.030964441472857,\n",
       "     'b': 4.030964441472858,\n",
       "     'c': 34.03823429095444,\n",
       "     'alpha': 90.0,\n",
       "     'beta': 90.0,\n",
       "     'gamma': 89.462123180944,\n",
       "     'volume': 553.0518127747102},\n",
       "    'properties': {},\n",
       "    'sites': [{'species': [{'element': 'Li', 'occu': 1}],\n",
       "      'abc': [0.32553267895618854, 0.8255326789561886, 0.29152767929081347],\n",
       "      'properties': {'bulk_equivalent': 0,\n",
       "       'interface_label': 'film',\n",
       "       'bulk_wyckoff': 'c'},\n",
       "      'label': 'Li',\n",
       "      'xyz': [1.3434496483757097, 3.327546241577581, 9.923087449998937]},\n",
       "     {'species': [{'element': 'Li', 'occu': 1}],\n",
       "      'abc': [0.8255326789561884, 0.32553267895618876, 0.29152767929081347],\n",
       "      'properties': {'bulk_equivalent': 0,\n",
       "       'interface_label': 'film',\n",
       "       'bulk_wyckoff': 'c'},\n",
       "      'label': 'Li',\n",
       "      'xyz': [3.3400113613222993, 1.312152831721922, 9.923087449998937]},\n",
       "     {'species': [{'element': 'Li', 'occu': 1}],\n",
       "      'abc': [0.8255326789561885, 0.32553267895618854, 0.20823405663629524],\n",
       "      'properties': {'bulk_equivalent': 0,\n",
       "       'interface_label': 'film',\n",
       "       'bulk_wyckoff': 'c'},\n",
       "      'label': 'Li',\n",
       "      'xyz': [3.3400113613222997, 1.312152831721921, 7.087919607142094]},\n",
       "     {'species': [{'element': 'Li', 'occu': 1}],\n",
       "      'abc': [0.32553267895618854, 0.8255326789561888, 0.20823405663629524],\n",
       "      'properties': {'bulk_equivalent': 0,\n",
       "       'interface_label': 'film',\n",
       "       'bulk_wyckoff': 'c'},\n",
       "      'label': 'Li',\n",
       "      'xyz': [1.3434496483757097, 3.327546241577582, 7.087919607142093]},\n",
       "     {'species': [{'element': 'Li', 'occu': 1}],\n",
       "      'abc': [0.325532678956189, 0.825532678956189, 0.12494043398177723],\n",
       "      'properties': {'bulk_equivalent': 0,\n",
       "       'interface_label': 'film',\n",
       "       'bulk_wyckoff': 'c'},\n",
       "      'label': 'Li',\n",
       "      'xyz': [1.3434496483757115, 3.3275462415775827, 4.252751764285259]},\n",
       "     {'species': [{'element': 'Li', 'occu': 1}],\n",
       "      'abc': [0.8255326789561885, 0.32553267895618854, 0.12494043398177723],\n",
       "      'properties': {'bulk_equivalent': 0,\n",
       "       'interface_label': 'film',\n",
       "       'bulk_wyckoff': 'c'},\n",
       "      'label': 'Li',\n",
       "      'xyz': [3.3400113613222997, 1.312152831721921, 4.252751764285259]},\n",
       "     {'species': [{'element': 'Li', 'occu': 1}],\n",
       "      'abc': [0.8255326789561881, 0.32553267895618854, 0.041646811327259226],\n",
       "      'properties': {'bulk_equivalent': 0,\n",
       "       'interface_label': 'film',\n",
       "       'bulk_wyckoff': 'c'},\n",
       "      'label': 'Li',\n",
       "      'xyz': [3.340011361322298, 1.312152831721921, 1.417583921428425]},\n",
       "     {'species': [{'element': 'Li', 'occu': 1}],\n",
       "      'abc': [0.3255326789561881, 0.8255326789561885, 0.041646811327259226],\n",
       "      'properties': {'bulk_equivalent': 0,\n",
       "       'interface_label': 'film',\n",
       "       'bulk_wyckoff': 'c'},\n",
       "      'label': 'Li',\n",
       "      'xyz': [1.343449648375708, 3.3275462415775805, 1.4175839214284245]},\n",
       "     {'species': [{'element': 'S', 'occu': 1}],\n",
       "      'abc': [0.8255326789561886, 0.8255326789561888, 0.24988086796355424],\n",
       "      'properties': {'bulk_equivalent': 2,\n",
       "       'interface_label': 'film',\n",
       "       'bulk_wyckoff': 'a'},\n",
       "      'label': 'S',\n",
       "      'xyz': [3.358931869112139, 3.327546241577582, 8.505503528570511]},\n",
       "     {'species': [{'element': 'S', 'occu': 1}],\n",
       "      'abc': [0.32553267895618854, 0.32553267895618854, 0.16658724530903624],\n",
       "      'properties': {'bulk_equivalent': 2,\n",
       "       'interface_label': 'film',\n",
       "       'bulk_wyckoff': 'a'},\n",
       "      'label': 'S',\n",
       "      'xyz': [1.3245291405858708, 1.312152831721921, 5.670335685713677]},\n",
       "     {'species': [{'element': 'S', 'occu': 1}],\n",
       "      'abc': [0.8255326789561885, 0.8255326789561885, 0.08329362265451823],\n",
       "      'properties': {'bulk_equivalent': 2,\n",
       "       'interface_label': 'film',\n",
       "       'bulk_wyckoff': 'a'},\n",
       "      'label': 'S',\n",
       "      'xyz': [3.3589318691121384, 3.3275462415775805, 2.835167842856842]},\n",
       "     {'species': [{'element': 'S', 'occu': 1}],\n",
       "      'abc': [0.325532678956189, 0.325532678956189, 0.0],\n",
       "      'properties': {'bulk_equivalent': 2,\n",
       "       'interface_label': 'film',\n",
       "       'bulk_wyckoff': 'a'},\n",
       "      'label': 'S',\n",
       "      'xyz': [1.3245291405858726,\n",
       "       1.3121528317219229,\n",
       "       -1.3066983846425916e-16]}]},\n",
       "   '_fw_name': '{{atomate.vasp.firetasks.write_inputs.WriteVaspFromIOSet}}'},\n",
       "  {'vasp_cmd': 'mpirun -np 96 vasp_std',\n",
       "   'gzip_output': False,\n",
       "   '_fw_name': '{{atomate.vasp.firetasks.run_calc.RunVaspCustodian}}'},\n",
       "  {'db_file': '/public5/home/t6s001944/.conda/envs/general/lib/python3.12/site-packages/atomate/config/db.json',\n",
       "   'additional_fields': {'i': 0, 'j': 0, 'tp': 'fmsg', 'dp': 't'},\n",
       "   '_fw_name': '{{atomate.vasp.firetasks.parse_outputs.VaspToDb}}'}]}"
      ]
     },
     "execution_count": 28,
     "metadata": {},
     "output_type": "execute_result"
    }
   ],
   "source": [
    "wf[0].spec"
   ]
  },
  {
   "cell_type": "code",
   "execution_count": 45,
   "id": "03036c72-584f-41ad-b08a-61eee4cc62f7",
   "metadata": {},
   "outputs": [],
   "source": [
    "import json"
   ]
  },
  {
   "cell_type": "code",
   "execution_count": 46,
   "id": "b276bab2-ee14-4bff-9883-acb2ea342de5",
   "metadata": {},
   "outputs": [],
   "source": [
    "with open('global_random_sampling.json', 'r') as f:\n",
    "    data = json.load(f)"
   ]
  },
  {
   "cell_type": "code",
   "execution_count": 50,
   "id": "23062d2f-98fb-474f-bfd0-cd48f498b647",
   "metadata": {},
   "outputs": [],
   "source": [
    "from numpy import random"
   ]
  },
  {
   "cell_type": "code",
   "execution_count": 78,
   "id": "c37fd597-db51-4630-b0a9-c031edb3d7e8",
   "metadata": {},
   "outputs": [
    {
     "data": {
      "text/plain": [
       "array([[0.96702984, 0.54723225, 0.97268436],\n",
       "       [0.71481599, 0.69772882, 0.2160895 ],\n",
       "       [0.97627445, 0.00623026, 0.25298236],\n",
       "       [0.43479153, 0.77938292, 0.19768507],\n",
       "       [0.86299324, 0.98340068, 0.16384224],\n",
       "       [0.59733394, 0.0089861 , 0.38657128],\n",
       "       [0.04416006, 0.95665297, 0.43614665],\n",
       "       [0.94897731, 0.78630599, 0.8662893 ],\n",
       "       [0.17316542, 0.07494859, 0.60074272],\n",
       "       [0.16797218, 0.73338017, 0.40844386],\n",
       "       [0.52790882, 0.93757158, 0.52169612],\n",
       "       [0.10819338, 0.15822341, 0.54520265],\n",
       "       [0.52440408, 0.63761024, 0.40149544],\n",
       "       [0.64980511, 0.3969    , 0.62391611],\n",
       "       [0.76740497, 0.17897391, 0.37557577],\n",
       "       [0.50253306, 0.68666708, 0.25367965],\n",
       "       [0.55474086, 0.62493084, 0.89550117],\n",
       "       [0.36285359, 0.63755707, 0.1914464 ],\n",
       "       [0.49779411, 0.1824454 , 0.91838304],\n",
       "       [0.43182207, 0.8301881 , 0.4167763 ],\n",
       "       [0.90466759, 0.40482522, 0.3311745 ],\n",
       "       [0.57213877, 0.84544365, 0.86101431],\n",
       "       [0.59568812, 0.08466161, 0.59726661],\n",
       "       [0.24545371, 0.73259345, 0.89465129],\n",
       "       [0.51473397, 0.60356351, 0.06506781],\n",
       "       [0.54007473, 0.12918678, 0.61456285],\n",
       "       [0.36365035, 0.76775803, 0.04853414],\n",
       "       [0.10981812, 0.68402322, 0.5146537 ],\n",
       "       [0.57164137, 0.84370699, 0.48773764],\n",
       "       [0.81014442, 0.51024363, 0.92672069],\n",
       "       [0.66692777, 0.14872684, 0.36455318],\n",
       "       [0.86577492, 0.35028521, 0.18902576],\n",
       "       [0.47262131, 0.39278117, 0.61892993],\n",
       "       [0.43676629, 0.26092216, 0.41247221],\n",
       "       [0.41903403, 0.90242186, 0.97961626],\n",
       "       [0.62356884, 0.08318412, 0.73299872],\n",
       "       [0.6786854 , 0.82602287, 0.34745134],\n",
       "       [0.05888009, 0.61182182, 0.12401462],\n",
       "       [0.75952953, 0.79442332, 0.40862679],\n",
       "       [0.94379751, 0.17377979, 0.94258585]])"
      ]
     },
     "execution_count": 78,
     "metadata": {},
     "output_type": "execute_result"
    }
   ],
   "source": [
    "random.seed(4)\n",
    "random.rand(40, 3)"
   ]
  },
  {
   "cell_type": "code",
   "execution_count": 76,
   "id": "d988ebc3-7b9a-4616-812a-6dd9f7885f80",
   "metadata": {},
   "outputs": [],
   "source": [
    "import matplotlib.pyplot as plt"
   ]
  },
  {
   "cell_type": "code",
   "execution_count": 77,
   "id": "211fde39-e5be-4714-8640-0358e071f3cb",
   "metadata": {},
   "outputs": [
    {
     "data": {
      "text/plain": [
       "<matplotlib.collections.PathCollection at 0x349be3980>"
      ]
     },
     "execution_count": 77,
     "metadata": {},
     "output_type": "execute_result"
    },
    {
     "data": {
      "image/png": "[encoded data removed]",
      "text/plain": [
       "<Figure size 640x480 with 1 Axes>"
      ]
     },
     "metadata": {},
     "output_type": "display_data"
    }
   ],
   "source": [
    "plt.scatter(xs, ys)"
   ]
  },
  {
   "cell_type": "code",
   "execution_count": 42,
   "id": "280f324c-4b09-4881-b736-28c916f2d1e7",
   "metadata": {},
   "outputs": [],
   "source": [
    "def readDBvasp(db, field):\n",
    "    data = db.collection.find_one(field)\n",
    "    energy = 0\n",
    "    if data != None:\n",
    "        if data['state'] == 'successful':\n",
    "            energy = data['output']['energy']\n",
    "    return energy"
   ]
  },
  {
   "cell_type": "code",
   "execution_count": null,
   "id": "cfb04819-b36e-4cad-bdc8-1ac9e9464d91",
   "metadata": {},
   "outputs": [],
   "source": [
    "def read_global_random_sampling(project_name):\n",
    "    with open('global_random_sampling.json', 'r') as f:\n",
    "        input_data = json.load(f)\n",
    "    tuple_keys = []\n",
    "    output_data = {}\n",
    "    for i in data.keys():\n",
    "        kl = i.split('_')\n",
    "        tuple_keys.append((int(kl[0]), int(kl[1])))\n",
    "    \n",
    "    for key in tuple_keys:\n",
    "        i, j = key\n",
    "        output_data[(i,j)] = input_data[f'{i}_{j}']\n",
    "        output_data[(i,j)]\n",
    "        for k in range(len(data[f'{i}_{j}']['xyzs']):\n",
    "            "
   ]
  }
 ],
 "metadata": {
  "kernelspec": {
   "display_name": "Python 3 (ipykernel)",
   "language": "python",
   "name": "python3"
  },
  "language_info": {
   "codemirror_mode": {
    "name": "ipython",
    "version": 3
   },
   "file_extension": ".py",
   "mimetype": "text/x-python",
   "name": "python",
   "nbconvert_exporter": "python",
   "pygments_lexer": "ipython3",
   "version": "3.12.7"
  }
 },
 "nbformat": 4,
 "nbformat_minor": 5
}
