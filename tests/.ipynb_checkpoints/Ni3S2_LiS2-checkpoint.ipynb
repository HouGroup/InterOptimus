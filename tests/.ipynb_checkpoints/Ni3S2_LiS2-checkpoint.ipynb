{
 "cells": [
  {
   "cell_type": "code",
   "execution_count": 1,
   "id": "a6b864e5-2fe3-47dd-9e64-ace736e2972c",
   "metadata": {},
   "outputs": [],
   "source": [
    "from InterOptimus.itworker import InterfaceWorker\n",
    "from pymatgen.core.structure import Structure\n",
    "from mp_api.client import MPRester"
   ]
  },
  {
   "cell_type": "code",
   "execution_count": 2,
   "id": "ac0e8895-5faf-4c16-9bac-e4af9b23f52c",
   "metadata": {},
   "outputs": [],
   "source": [
    "film_conv, substrate_conv = Structure.from_file('lattices/Li2S/CONTCAR'), Structure.from_file('lattices/Ni3S2/CONTCAR')"
   ]
  },
  {
   "cell_type": "code",
   "execution_count": 3,
   "id": "64b09eaa-92fa-46cc-b20c-1e8014fc6c06",
   "metadata": {},
   "outputs": [],
   "source": [
    "iw = InterfaceWorker(film_conv, substrate_conv)"
   ]
  },
  {
   "cell_type": "code",
   "execution_count": 4,
   "id": "056b9a83-d272-4639-a5da-856a36a19b84",
   "metadata": {},
   "outputs": [],
   "source": [
    "iw.lattice_matching(max_area = 47, max_length_tol = 0.03, max_angle_tol = 0.03,\n",
    "                    film_max_miller = 1, substrate_max_miller = 1, film_millers = None, substrate_millers = None)\n",
    "#Note max millers are in primitive cell, should be different from the indices in the polar projection below which are in conventional cell\n",
    "#If you specify miller indices yourself, just ignore film_max_miller and substrate_max_miller"
   ]
  },
  {
   "cell_type": "code",
   "execution_count": 5,
   "id": "2849f715-2a6c-4cf7-bb70-80aaf8937ac2",
   "metadata": {},
   "outputs": [
    {
     "name": "stdout",
     "output_type": "stream",
     "text": [
      "symmetry checking progress: 100%:  ▋▋▋▋▋▋▋▋▋▋▋▋▋▋▋▋▋▋▋▋▋▋▋▋▋▋▋▋▋▋▋▋▋▋▋▋▋▋▋▋▋▋▋▋▋▋▋▋▋▋"
     ]
    }
   ],
   "source": [
    "iw.parse_interface_structure_params(termination_ftol = 0.01, c_periodic = False, \\\n",
    "                                    vacuum_over_film = 10, film_thickness = 10, \\\n",
    "                                    substrate_thickness = 10, shift_to_bottom = True)"
   ]
  },
  {
   "cell_type": "code",
   "execution_count": 6,
   "id": "60b47c1f-54c5-4432-84fe-47ef6563ebbd",
   "metadata": {},
   "outputs": [
    {
     "data": {
      "application/vnd.jupyter.widget-view+json": {
       "model_id": "3b5ea90f091641c9af7e70cfb0484769",
       "version_major": 2,
       "version_minor": 0
      },
      "text/plain": [
       "matches:   0%|          | 0/3 [00:00<?, ?it/s]"
      ]
     },
     "metadata": {},
     "output_type": "display_data"
    },
    {
     "data": {
      "application/vnd.jupyter.widget-view+json": {
       "model_id": "879c6f6a4803420fb4f7240e7203b5e0",
       "version_major": 2,
       "version_minor": 0
      },
      "text/plain": [
       "unique terminations:   0%|          | 0/10 [00:00<?, ?it/s]"
      ]
     },
     "metadata": {},
     "output_type": "display_data"
    },
    {
     "data": {
      "application/vnd.jupyter.widget-view+json": {
       "model_id": "f77b4e33fda148e3b1d9f9fde0f9a45c",
       "version_major": 2,
       "version_minor": 0
      },
      "text/plain": [
       "unique terminations:   0%|          | 0/5 [00:00<?, ?it/s]"
      ]
     },
     "metadata": {},
     "output_type": "display_data"
    },
    {
     "data": {
      "application/vnd.jupyter.widget-view+json": {
       "model_id": "15d1712dd8ca4767b3aa659e73278ae2",
       "version_major": 2,
       "version_minor": 0
      },
      "text/plain": [
       "unique terminations:   0%|          | 0/5 [00:00<?, ?it/s]"
      ]
     },
     "metadata": {},
     "output_type": "display_data"
    },
    {
     "data": {
      "application/vnd.jupyter.widget-view+json": {
       "model_id": "06d7a55c062947afb42b8cc572d2e712",
       "version_major": 2,
       "version_minor": 0
      },
      "text/plain": [
       "matches:   0%|          | 0/3 [00:00<?, ?it/s]"
      ]
     },
     "metadata": {},
     "output_type": "display_data"
    },
    {
     "data": {
      "application/vnd.jupyter.widget-view+json": {
       "model_id": "5ebf7b327af848f3b96ce9b271d73e35",
       "version_major": 2,
       "version_minor": 0
      },
      "text/plain": [
       "unique terminations:   0%|          | 0/10 [00:00<?, ?it/s]"
      ]
     },
     "metadata": {},
     "output_type": "display_data"
    },
    {
     "name": "stderr",
     "output_type": "stream",
     "text": [
      "/opt/anaconda3/envs/3.12/lib/python3.12/site-packages/pymatgen/io/vasp/sets.py:287: BadInputSetWarning: Overriding POTCARs is generally not recommended as it significantly affects the results of calculations and compatibility with other calculations done with the same input set. In many instances, it is better to write a subclass of a desired input set and override the POTCAR in the subclass to be explicit on the differences.\n",
      "  warnings.warn(\n"
     ]
    },
    {
     "data": {
      "application/vnd.jupyter.widget-view+json": {
       "model_id": "0889794daf3249d5968ab68b9e243d9c",
       "version_major": 2,
       "version_minor": 0
      },
      "text/plain": [
       "unique terminations:   0%|          | 0/5 [00:00<?, ?it/s]"
      ]
     },
     "metadata": {},
     "output_type": "display_data"
    },
    {
     "data": {
      "application/vnd.jupyter.widget-view+json": {
       "model_id": "7fffafa177ec43629b34da336066dca0",
       "version_major": 2,
       "version_minor": 0
      },
      "text/plain": [
       "unique terminations:   0%|          | 0/5 [00:00<?, ?it/s]"
      ]
     },
     "metadata": {},
     "output_type": "display_data"
    }
   ],
   "source": [
    "wf = iw.global_random_sampling(n_taget = 40, \n",
    "                               n_max = 200, sampling_min_displace = 1, discut = 1,\n",
    "                               to_fireworks = True,\n",
    "                              project_name = 'test', \n",
    "                                db_file = '/public5/home/t6s001944/.conda/envs/general/lib/python3.12/site-packages/atomate/config/db.json',\n",
    "                                vasp_cmd = 'mpirun -np 96 vasp_std',\n",
    "                                user_incar_settings={'NCORE':12}, \n",
    "                               work_dir = '/public5/home/t6s001944/InterOptimusPaper/random_sampling/Ni3S2/vasp')"
   ]
  },
  {
   "cell_type": "code",
   "execution_count": 7,
   "id": "7bcc363e-be8c-4995-90e5-6d9fbcf407c0",
   "metadata": {},
   "outputs": [],
   "source": [
    "import pickle\n",
    "with open('wf.pkl','wb') as f:\n",
    "    pickle.dump(wf.to_dict(), f)"
   ]
  },
  {
   "cell_type": "code",
   "execution_count": 8,
   "id": "ae980e86-c54b-4e84-807c-ed8d8c7068f2",
   "metadata": {},
   "outputs": [],
   "source": [
    "with open('wf.pkl','rb') as f:\n",
    "    data = pickle.load(f)"
   ]
  },
  {
   "cell_type": "code",
   "execution_count": 9,
   "id": "d5d79b91-64fa-43b0-afc0-e33d8427c13b",
   "metadata": {},
   "outputs": [],
   "source": [
    "from fireworks import Workflow"
   ]
  },
  {
   "cell_type": "code",
   "execution_count": 14,
   "id": "82f121c6-5808-48c2-b7a8-80eaebf58868",
   "metadata": {
    "scrolled": true
   },
   "outputs": [
    {
     "data": {
      "text/plain": [
       "{\"spec\": {\"_launch_dir\": \"/public5/home/t6s001944/InterOptimusPaper/random_sampling/Ni3S2/vasp/it_0_0_39\", \"_tasks\": [{\"incar_update\": {\"LDAU\": false, \"EDIFF\": 1e-05, \"NELM\": 1000, \"PREC\": null, \"ISPIN\": 2, \"ALGO\": \"Normal\", \"ISMEAR\": 0, \"SIGMA\": 0.05, \"LWAVE\": true, \"LREAL\": \"Auto\", \"NCORE\": 12, \"LDIPOL\": true, \"IDIPOL\": 3}, \"_fw_name\": \"{{atomate.vasp.firetasks.write_inputs.ModifyIncar}}\"}, {\"vasp_cmd\": \"mpirun -np 96 vasp_std\", \"handler_group\": \"no_handler\", \"gzip_output\": false, \"_fw_name\": \"{{atomate.vasp.firetasks.run_calc.RunVaspCustodian}}\"}, {\"db_file\": \"/public5/home/t6s001944/.conda/envs/general/lib/python3.12/site-packages/atomate/config/db.json\", \"additional_fields\": {\"i\": 0, \"j\": 0, \"k\": 39, \"tp\": \"it\", \"dp\": \"t\"}, \"_fw_name\": \"{{atomate.vasp.firetasks.parse_outputs.VaspToDb}}\"}, {\"script\": [\"rm WAVECAR\"], \"use_shell\": true, \"_fw_name\": \"ScriptTask\"}]}, \"fw_id\": -88, \"created_on\": \"2024-12-09T23:30:29.737444\", \"updated_on\": \"2024-12-09T23:30:29.737446\", \"name\": \"test_it_0_0_39_dp\"}"
      ]
     },
     "execution_count": 14,
     "metadata": {},
     "output_type": "execute_result"
    }
   ],
   "source": [
    "wf[87]"
   ]
  }
 ],
 "metadata": {
  "kernelspec": {
   "display_name": "Python 3 (ipykernel)",
   "language": "python",
   "name": "python3"
  },
  "language_info": {
   "codemirror_mode": {
    "name": "ipython",
    "version": 3
   },
   "file_extension": ".py",
   "mimetype": "text/x-python",
   "name": "python",
   "nbconvert_exporter": "python",
   "pygments_lexer": "ipython3",
   "version": "3.12.7"
  }
 },
 "nbformat": 4,
 "nbformat_minor": 5
}
